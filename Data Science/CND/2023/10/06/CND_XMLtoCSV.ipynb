{
 "cells": [
  {
   "cell_type": "code",
   "execution_count": 2,
   "id": "e0bd0b16-c210-4081-b965-44102e4300ee",
   "metadata": {},
   "outputs": [],
   "source": [
    "import os\n",
    "import xml.etree.ElementTree as ET\n"
   ]
  },
  {
   "cell_type": "code",
   "execution_count": 25,
   "id": "6a0fddd1-c38d-484b-a829-2b70379f0edd",
   "metadata": {},
   "outputs": [],
   "source": [
    "# data_dir = \"./data/CNDoriginal\"\n",
    "# log_files = os.listdir(data_dir)\n",
    "\n",
    "# data_dir_ncnd = \"./data/NCNDoriginal\"\n",
    "# log_files_ncnd = os.listdir(data_dir_ncnd)\n",
    "\n",
    "# out_file_name = \"CNDtrain.csv\"\n"
   ]
  },
  {
   "cell_type": "code",
   "execution_count": 26,
   "id": "779a8105-5491-4e31-9d5e-2ebc5a1c514e",
   "metadata": {},
   "outputs": [],
   "source": [
    "data_dir = \"./data/CND\"\n",
    "log_files = os.listdir(data_dir)\n",
    "\n",
    "data_dir_ncnd = \"./data/NCND\"\n",
    "log_files_ncnd = os.listdir(data_dir_ncnd)\n",
    "\n",
    "out_file_name = \"CNDtest.csv\"\n"
   ]
  },
  {
   "cell_type": "code",
   "execution_count": 27,
   "id": "b915c7b9-43cd-4aa5-acb9-bb21205453ac",
   "metadata": {},
   "outputs": [
    {
     "data": {
      "text/plain": [
       "list"
      ]
     },
     "execution_count": 27,
     "metadata": {},
     "output_type": "execute_result"
    }
   ],
   "source": [
    "type(log_files)"
   ]
  },
  {
   "cell_type": "code",
   "execution_count": 28,
   "id": "59cbab3f-54b6-4826-9b93-3ee4e3d34305",
   "metadata": {},
   "outputs": [],
   "source": [
    "log_data = {\n",
    "    \"fileName\":[],\n",
    "    # \"AgentID\": [],\n",
    "    # # \"Sequence\": [],\n",
    "    # # \"Timestamp\": [],\n",
    "    # \"Severity\": [],\n",
    "    # \"Category\": [],\n",
    "    \"MessageID\": [],\n",
    "    # \"Message\": [],\n",
    "    # \"FQDD\": []\n",
    "    \"CND\": []\n",
    "}\n",
    "parseError = []\n",
    "for log_file in log_files:\n",
    "    try:\n",
    "        tree = ET.parse(os.path.join(data_dir, log_file))\n",
    "    except:\n",
    "        \n",
    "        print(log_file)\n",
    "        continue\n",
    "    root = tree.getroot()\n",
    "    events = root.findall(\".//Event\")\n",
    "    message_id = \"\"\n",
    "    for event in events:\n",
    "        # agent_id = event.get('AgentID')\n",
    "        # category = event.get('Category')\n",
    "        # severity = event.get('Severity')\n",
    "        # # timestamp = event.get('Timestamp')\n",
    "        # # sequence = event.get('Sequence')\n",
    "        # # message = event.find('Message').text\n",
    "        message_id += event.find('MessageID').text + \" \"\n",
    "    \n",
    "        # # fqdd = event.find('FQDD').text if event.find('FQDD') is not None else ''\n",
    "        # # log_data[\"Sequence\"].append(sequence)\n",
    "        # log_data[\"AgentID\"].append(agent_id)\n",
    "        # # log_data[\"Timestamp\"].append(timestamp)\n",
    "        # log_data[\"Severity\"].append(severity)\n",
    "        # log_data[\"Category\"].append(category)\n",
    "    log_data[\"fileName\"].append(log_file)\n",
    "    log_data[\"MessageID\"].append(message_id.strip())\n",
    "        # log_data[\"Message\"].append(message)\n",
    "    log_data[\"CND\"].append(1)\n",
    "for log_file in log_files_ncnd:\n",
    "    try:\n",
    "        tree = ET.parse(os.path.join(data_dir_ncnd, log_file))\n",
    "    except:\n",
    "        print(log_file)\n",
    "        continue\n",
    "    root = tree.getroot()\n",
    "    events = root.findall(\".//Event\")\n",
    "    message_id = \"\"\n",
    "    for event in events:\n",
    "        message_id += event.find('MessageID').text + \" \"\n",
    "    log_data[\"fileName\"].append(log_file)\n",
    "    log_data[\"MessageID\"].append(message_id.strip())\n",
    "    log_data[\"CND\"].append(0)"
   ]
  },
  {
   "cell_type": "code",
   "execution_count": null,
   "id": "65cd7896-6f18-49b0-8491-1142080da2bb",
   "metadata": {},
   "outputs": [],
   "source": []
  },
  {
   "cell_type": "code",
   "execution_count": 29,
   "id": "82c6dc9c-454f-4c52-bde0-fb21ebd1829f",
   "metadata": {},
   "outputs": [],
   "source": [
    "import pandas as pd \n",
    "\n",
    "df = pd.DataFrame.from_dict(log_data) \n",
    "\n",
    "df.to_csv(f\"./data/{out_file_name}\",header=True, encoding=\"utf-8\", index=False) \n"
   ]
  },
  {
   "cell_type": "code",
   "execution_count": 30,
   "id": "65a291a2-30bc-4a59-86fb-f4bf24a9f9fe",
   "metadata": {},
   "outputs": [
    {
     "data": {
      "text/html": [
       "<div>\n",
       "<style scoped>\n",
       "    .dataframe tbody tr th:only-of-type {\n",
       "        vertical-align: middle;\n",
       "    }\n",
       "\n",
       "    .dataframe tbody tr th {\n",
       "        vertical-align: top;\n",
       "    }\n",
       "\n",
       "    .dataframe thead th {\n",
       "        text-align: right;\n",
       "    }\n",
       "</style>\n",
       "<table border=\"1\" class=\"dataframe\">\n",
       "  <thead>\n",
       "    <tr style=\"text-align: right;\">\n",
       "      <th></th>\n",
       "      <th>fileName</th>\n",
       "      <th>MessageID</th>\n",
       "      <th>CND</th>\n",
       "    </tr>\n",
       "  </thead>\n",
       "  <tbody>\n",
       "    <tr>\n",
       "      <th>0</th>\n",
       "      <td>CN072T6DFCP0086E01L8A10</td>\n",
       "      <td>SYS160 SYS150 SYS141 SYS142 SYS143 SYS162 RAC0...</td>\n",
       "      <td>1</td>\n",
       "    </tr>\n",
       "    <tr>\n",
       "      <th>1</th>\n",
       "      <td>CN072T6DFCP007CC01REA10</td>\n",
       "      <td>PSU0800 PSU0800 SWC1902 PR7 PR7 RAC0182 RAC018...</td>\n",
       "      <td>1</td>\n",
       "    </tr>\n",
       "    <tr>\n",
       "      <th>2</th>\n",
       "      <td>CN072T6DFCP0088O00L1A10</td>\n",
       "      <td>PSU0800 SWC1902 PR7 RAC0182 LOG007 DIS002 HWC2...</td>\n",
       "      <td>1</td>\n",
       "    </tr>\n",
       "    <tr>\n",
       "      <th>3</th>\n",
       "      <td>CN072T6DFCP0076300V5A10</td>\n",
       "      <td>PSU0800 PSU0800 SWC1902 PR7 PR7 RAC0182 LOG007...</td>\n",
       "      <td>1</td>\n",
       "    </tr>\n",
       "    <tr>\n",
       "      <th>4</th>\n",
       "      <td>CN072T6DFCP006CJ00KXA10</td>\n",
       "      <td>PSU0800 SWC1902 PR7 RAC0182 LOG007 DIS002 HWC2...</td>\n",
       "      <td>1</td>\n",
       "    </tr>\n",
       "  </tbody>\n",
       "</table>\n",
       "</div>"
      ],
      "text/plain": [
       "                  fileName                                          MessageID  \\\n",
       "0  CN072T6DFCP0086E01L8A10  SYS160 SYS150 SYS141 SYS142 SYS143 SYS162 RAC0...   \n",
       "1  CN072T6DFCP007CC01REA10  PSU0800 PSU0800 SWC1902 PR7 PR7 RAC0182 RAC018...   \n",
       "2  CN072T6DFCP0088O00L1A10  PSU0800 SWC1902 PR7 RAC0182 LOG007 DIS002 HWC2...   \n",
       "3  CN072T6DFCP0076300V5A10  PSU0800 PSU0800 SWC1902 PR7 PR7 RAC0182 LOG007...   \n",
       "4  CN072T6DFCP006CJ00KXA10  PSU0800 SWC1902 PR7 RAC0182 LOG007 DIS002 HWC2...   \n",
       "\n",
       "   CND  \n",
       "0    1  \n",
       "1    1  \n",
       "2    1  \n",
       "3    1  \n",
       "4    1  "
      ]
     },
     "execution_count": 30,
     "metadata": {},
     "output_type": "execute_result"
    }
   ],
   "source": [
    "df.head()"
   ]
  },
  {
   "cell_type": "code",
   "execution_count": 31,
   "id": "9128548d-d5bf-4e73-8630-2aa6a483d9be",
   "metadata": {},
   "outputs": [
    {
     "data": {
      "text/plain": [
       "(48, 3)"
      ]
     },
     "execution_count": 31,
     "metadata": {},
     "output_type": "execute_result"
    }
   ],
   "source": [
    "df.shape"
   ]
  },
  {
   "cell_type": "code",
   "execution_count": 32,
   "id": "c3315154-b1ba-451e-a611-2edbb247dce7",
   "metadata": {},
   "outputs": [
    {
     "data": {
      "text/html": [
       "<div>\n",
       "<style scoped>\n",
       "    .dataframe tbody tr th:only-of-type {\n",
       "        vertical-align: middle;\n",
       "    }\n",
       "\n",
       "    .dataframe tbody tr th {\n",
       "        vertical-align: top;\n",
       "    }\n",
       "\n",
       "    .dataframe thead th {\n",
       "        text-align: right;\n",
       "    }\n",
       "</style>\n",
       "<table border=\"1\" class=\"dataframe\">\n",
       "  <thead>\n",
       "    <tr style=\"text-align: right;\">\n",
       "      <th></th>\n",
       "      <th>fileName</th>\n",
       "      <th>MessageID</th>\n",
       "      <th>CND</th>\n",
       "    </tr>\n",
       "  </thead>\n",
       "  <tbody>\n",
       "    <tr>\n",
       "      <th>43</th>\n",
       "      <td>CN072T6DFCP006C4011RA10</td>\n",
       "      <td>VDR32 VDR32 VDR32 VDR32 VDR32 VDR32 SYS1003 LO...</td>\n",
       "      <td>0</td>\n",
       "    </tr>\n",
       "    <tr>\n",
       "      <th>44</th>\n",
       "      <td>CN072T6DFCP006BQ0049A10</td>\n",
       "      <td>SYS1003 LOG007 UEFI0061 UEFI0062 SYS1001 SYS10...</td>\n",
       "      <td>0</td>\n",
       "    </tr>\n",
       "    <tr>\n",
       "      <th>45</th>\n",
       "      <td>CN072T6DFCP006AT01JWA10-CND-100%-MEM issue</td>\n",
       "      <td>SYS1003 LOG007 UEFI0061 UEFI0062 SYS1001 SYS10...</td>\n",
       "      <td>0</td>\n",
       "    </tr>\n",
       "    <tr>\n",
       "      <th>46</th>\n",
       "      <td>CN072T6DFCP006B100CIA10</td>\n",
       "      <td>VDR33 VDR32 SYS1003 LOG007 UEFI0061 UEFI0062 U...</td>\n",
       "      <td>0</td>\n",
       "    </tr>\n",
       "    <tr>\n",
       "      <th>47</th>\n",
       "      <td>CN072T6DFCP0065I00UZA10</td>\n",
       "      <td>SYS1003 LOG007 UEFI0061 UEFI0062 SYS1001 SYS10...</td>\n",
       "      <td>0</td>\n",
       "    </tr>\n",
       "  </tbody>\n",
       "</table>\n",
       "</div>"
      ],
      "text/plain": [
       "                                      fileName  \\\n",
       "43                     CN072T6DFCP006C4011RA10   \n",
       "44                     CN072T6DFCP006BQ0049A10   \n",
       "45  CN072T6DFCP006AT01JWA10-CND-100%-MEM issue   \n",
       "46                     CN072T6DFCP006B100CIA10   \n",
       "47                     CN072T6DFCP0065I00UZA10   \n",
       "\n",
       "                                            MessageID  CND  \n",
       "43  VDR32 VDR32 VDR32 VDR32 VDR32 VDR32 SYS1003 LO...    0  \n",
       "44  SYS1003 LOG007 UEFI0061 UEFI0062 SYS1001 SYS10...    0  \n",
       "45  SYS1003 LOG007 UEFI0061 UEFI0062 SYS1001 SYS10...    0  \n",
       "46  VDR33 VDR32 SYS1003 LOG007 UEFI0061 UEFI0062 U...    0  \n",
       "47  SYS1003 LOG007 UEFI0061 UEFI0062 SYS1001 SYS10...    0  "
      ]
     },
     "execution_count": 32,
     "metadata": {},
     "output_type": "execute_result"
    }
   ],
   "source": [
    "df.tail()"
   ]
  },
  {
   "cell_type": "code",
   "execution_count": 33,
   "id": "bd67b635-da17-4eb4-9d2b-77acdce8a53a",
   "metadata": {},
   "outputs": [
    {
     "data": {
      "text/plain": [
       "(48, 3)"
      ]
     },
     "execution_count": 33,
     "metadata": {},
     "output_type": "execute_result"
    }
   ],
   "source": [
    "df.drop_duplicates().shape"
   ]
  },
  {
   "cell_type": "code",
   "execution_count": null,
   "id": "a3876274-f2ca-4f73-8078-e6487195e4d5",
   "metadata": {},
   "outputs": [],
   "source": []
  }
 ],
 "metadata": {
  "kernelspec": {
   "display_name": "Python 3 (ipykernel)",
   "language": "python",
   "name": "python3"
  },
  "language_info": {
   "codemirror_mode": {
    "name": "ipython",
    "version": 3
   },
   "file_extension": ".py",
   "mimetype": "text/x-python",
   "name": "python",
   "nbconvert_exporter": "python",
   "pygments_lexer": "ipython3",
   "version": "3.10.6"
  }
 },
 "nbformat": 4,
 "nbformat_minor": 5
}
